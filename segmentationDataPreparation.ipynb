{
 "cells": [
  {
   "cell_type": "code",
   "execution_count": null,
   "metadata": {},
   "outputs": [],
   "source": [
    "#Prepare Data for segmentation task"
   ]
  },
  {
   "cell_type": "code",
   "execution_count": null,
   "metadata": {},
   "outputs": [],
   "source": [
    "#Install required dataset library\n",
    "!pip install gaps-dataset\n",
    "!python ../downloadSegmentation.py #start downloading dataset\n"
   ]
  },
  {
   "cell_type": "code",
   "execution_count": null,
   "metadata": {},
   "outputs": [],
   "source": [
    "#unzip folders\n",
    "!unzip ../Dataset/v2/segmentation/train.zip -d ../Dataset/v2/segmentation/train\n",
    "!unzip ../Dataset/v2/segmentation/valid-test.zip -d ../Dataset/v2/segmentation/valid \n",
    "!unzip ../Dataset/v2/segmentation/images.zip -d ../Dataset/v2/segmentation/images"
   ]
  },
  {
   "cell_type": "code",
   "execution_count": null,
   "metadata": {},
   "outputs": [],
   "source": [
    "#Binarize train and valid masks\n",
    "!python ../binarize.py -i ../Dataset/v2/segmentation/train -o ../Dataset/binarized-train\n",
    "!python ../binarize.py -i ../Dataset/v2/segmentation/valid -o ../Dataset/binarized-valid\n"
   ]
  },
  {
   "cell_type": "code",
   "execution_count": null,
   "metadata": {},
   "outputs": [],
   "source": [
    "#Crop binarized train and valid masks\n",
    "!python ../cropSquare.py -i ../Dataset/binarized-train -o ../Dataset/cropped-train\n",
    "!python ../cropSquare.py -i ../Dataset/binarized-valid -o ../Dataset/cropped-valid\n"
   ]
  },
  {
   "cell_type": "code",
   "execution_count": null,
   "metadata": {},
   "outputs": [],
   "source": [
    "#Create groundtruths folder by cropping binarized train and valid mask; alternatively merge cropped-train and cropped-valid\n",
    "!mkdir ../Dataset/groundtruths\n",
    "!python ../cropSquare.py -i ../Dataset/binarized-train -o ../Dataset/groundtruths\n",
    "!python ../cropSquare.py -i ../Dataset/binarized-valid -o ../Dataset/groundtruths"
   ]
  },
  {
   "cell_type": "code",
   "execution_count": null,
   "metadata": {},
   "outputs": [],
   "source": [
    "#Create train and valid folders\n",
    "!python ../divide.py"
   ]
  },
  {
   "cell_type": "code",
   "execution_count": null,
   "metadata": {},
   "outputs": [],
   "source": [
    "#At the end, the training data is :\n",
    "../Dataset/train  #images segments for network training\n",
    "../Dataset/valid    #images segments for validation\n",
    "../Dataset/groundtruths # groundtruths label for both train and valid segments"
   ]
  }
 ],
 "metadata": {
  "language_info": {
   "codemirror_mode": {
    "name": "ipython",
    "version": 3
   },
   "file_extension": ".py",
   "mimetype": "text/x-python",
   "name": "python",
   "nbconvert_exporter": "python",
   "pygments_lexer": "ipython3",
   "version": 3
  },
  "orig_nbformat": 2
 },
 "nbformat": 4,
 "nbformat_minor": 2
}